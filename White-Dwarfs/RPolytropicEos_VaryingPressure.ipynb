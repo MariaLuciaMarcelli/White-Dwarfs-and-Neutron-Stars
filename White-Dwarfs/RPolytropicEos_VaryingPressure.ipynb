{
 "cells": [
  {
   "cell_type": "code",
   "execution_count": 1,
   "metadata": {},
   "outputs": [],
   "source": [
    "import numpy as np\n",
    "import matplotlib.pyplot as plt\n"
   ]
  },
  {
   "cell_type": "code",
   "execution_count": 2,
   "metadata": {},
   "outputs": [],
   "source": [
    "#General parameters in SI\n",
    "\n",
    "G=6.6743e-11 #m^3 kg^-1 s^-2\n",
    "c=3e8 #m/s\n",
    "h_t=1.054571817e-34 #kg*m^2*s^-2\n",
    "m_e=9.1093837015e-31 #kg\n",
    "m_n=1.674927351e-27 #kg\n",
    "m_sun=1.98855e30 #kg\n",
    "\n",
    "# relativistic constant in the eos p=Kr*e**(4/3)\n",
    "Kr = h_t*c/(12*np.pi**2)*(3*np.pi**2*((2*m_n*c**2)**(-1)))**(4/3)\n",
    "\n"
   ]
  },
  {
   "cell_type": "code",
   "execution_count": 3,
   "metadata": {},
   "outputs": [],
   "source": [
    "#Define the system of dimensionless differential eqns \n",
    "def white_dwarf(r, y, w ,z): \n",
    "    p ,m  = y \n",
    "    if p <= 0: \n",
    "        return np.array([0, 0])\n",
    "    dpdr = -m/(r**2)*(p/w)**z\n",
    "    dmdr = (r**2)*(p/w)**z\n",
    "    return np.array([dpdr, dmdr])\n"
   ]
  },
  {
   "cell_type": "code",
   "execution_count": 4,
   "metadata": {},
   "outputs": [],
   "source": [
    "#Define RK4 method\n",
    "def rk4(f, y0, r0, rf, dr, w, z):\n",
    "    r_values = np.arange(r0, rf, dr)\n",
    "    y_values = np.zeros((len(r_values), len(y0)))\n",
    "    y_values[0] = y0\n",
    "    \n",
    "    for i in range(1, len(r_values)):\n",
    "        r = r_values[i - 1]\n",
    "        y = y_values[i - 1]\n",
    "        k1 = dr * f(r, y, w, z)\n",
    "        k2 = dr * f(r + dr/2, y + k1/2, w, z)\n",
    "        k3 = dr * f(r + dr/2, y + k2/2, w, z)\n",
    "        k4 = dr * f(r + dr, y + k3, w, z)\n",
    "        \n",
    "        y_values[i] = y + (k1 + 2*k2 + 2*k3 + k4) / 6\n",
    "    \n",
    "    return r_values, y_values\n"
   ]
  },
  {
   "cell_type": "code",
   "execution_count": 26,
   "metadata": {},
   "outputs": [],
   "source": [
    "#central pressure VARYING\n",
    "p_c_values = np.logspace(22.7, 24.5, 100)\n",
    "\n",
    "\n",
    "# Lists to store results\n",
    "M_stars = []\n",
    "r_stars = []\n",
    "\n",
    "\n",
    "# Solve using RK4 \n",
    "for p_c in p_c_values:\n",
    "    \n",
    "    #matter density in the centre of the neutron star \n",
    "    ro_c=(p_c/Kr)**(3/4)*c**(-2) \n",
    "\n",
    "\n",
    "    #dimensionless param for dimensionless eos\n",
    "    w = Kr*c**(2/3)*ro_c**(1/3)\n",
    "    \n",
    "    #inverse of gamma\n",
    "    z= 3/4\n",
    "\n",
    "    #initial values for the dimensionless system of differential eqns \n",
    "    p0=p_c/ro_c*c**(-2) #initial dimensionless pressure\n",
    "    m0 = 0.0      # Initial dimensionless mass\n",
    "    y0 = np.array([p0, m0])\n",
    "    r0, rf, dr = 1e-6, 0.25, 0.0001  # radius range and step size\n",
    "\n",
    "\n",
    "    # Solve using RK4\n",
    "    r_values, y_values = rk4(white_dwarf, y0, r0, rf, dr, w, z)\n",
    "    \n",
    "    #Back to dimensionful quantities\n",
    "    m_values= y_values[:, 1]*4*np.pi*ro_c/(ro_c*4*np.pi*G)**(3/2)*c**3/m_sun\n",
    "    p_values= y_values[:, 0]*ro_c*c**2\n",
    "    r_values1=r_values/(ro_c*4*np.pi*G)**(1/2)*c*10**(-3)\n",
    "\n",
    "    for i in range(len(p_values)):\n",
    "        if p_values[i] <= 0:\n",
    "            r_stop = r_values1[i]  #White dwarf's radius\n",
    "            M_star = m_values[i]  # White dwarf's mass\n",
    "            break  \n",
    "    \n",
    "    M_stars.append(M_star)\n",
    "    r_stars.append(r_stop)\n",
    "    \n",
    "\n",
    "M_stars = np.array(M_stars)\n",
    "r_stars = np.array(r_stars)\n"
   ]
  },
  {
   "cell_type": "code",
   "execution_count": 27,
   "metadata": {},
   "outputs": [
    {
     "data": {
      "image/png": "[encoded data removed]",
      "text/plain": [
       "<Figure size 576x432 with 2 Axes>"
      ]
     },
     "metadata": {
      "needs_background": "light"
     },
     "output_type": "display_data"
    }
   ],
   "source": [
    "fig, ax1 = plt.subplots(figsize=(8, 6))\n",
    "\n",
    "# Plot the first graph (Radius)\n",
    "ax1.plot(p_c_values, r_stars, color='blue', label='Radius [km]')\n",
    "ax1.set_xlabel(\"Pressure in the center [Pa]\")\n",
    "ax1.set_ylabel(\"Radius [km]\", color='b')\n",
    "ax1.tick_params(axis='y', labelcolor='b')\n",
    "ax1.set_xscale('log')\n",
    "\n",
    "\n",
    "# Create second y-axis (Mass)\n",
    "ax2 = ax1.twinx() \n",
    "ax2.plot(p_c_values, M_stars, color='red', label='Mass [M_sun]')\n",
    "ax2.set_ylabel(\"Mass [m_sun]\", color='r')\n",
    "ax2.tick_params(axis='y', labelcolor='r')\n",
    "plt.ylim(1.4325, 1.433) \n",
    "\n",
    "plt.title(\"White Dwarfs\")\n",
    "fig.tight_layout()\n",
    "plt.grid(True, which='both', axis='both') \n",
    "plt.show()"
   ]
  }
 ],
 "metadata": {
  "kernelspec": {
   "display_name": "Python 3",
   "language": "python",
   "name": "python3"
  },
  "language_info": {
   "codemirror_mode": {
    "name": "ipython",
    "version": 3
   },
   "file_extension": ".py",
   "mimetype": "text/x-python",
   "name": "python",
   "nbconvert_exporter": "python",
   "pygments_lexer": "ipython3",
   "version": "3.8.3"
  }
 },
 "nbformat": 4,
 "nbformat_minor": 4
}
