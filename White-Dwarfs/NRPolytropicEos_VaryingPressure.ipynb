{
 "cells": [
  {
   "cell_type": "code",
   "execution_count": 3,
   "metadata": {},
   "outputs": [],
   "source": [
    "import numpy as np\n",
    "import matplotlib.pyplot as plt\n"
   ]
  },
  {
   "cell_type": "code",
   "execution_count": 4,
   "metadata": {},
   "outputs": [],
   "source": [
    "#General parameters in SI\n",
    "G=6.6743e-11 #m^3 kg^-1 s^-2\n",
    "c=3e8 #m/s\n",
    "h_t=1.054571817e-34 #kg*m^2*s^-2\n",
    "m_e=9.1093837015e-31 #kg\n",
    "m_n=1.674927351e-27 #kg\n",
    "m_sun=1.98855e30 #kg\n",
    "\n",
    "#non relativistic constant in the eos p=Knr*e**(5/3)\n",
    "Knr = h_t**2/(15*np.pi**2*m_e)*(3*np.pi**2*((2*m_n*c**2)**(-1)))**(5/3)\n",
    "\n"
   ]
  },
  {
   "cell_type": "code",
   "execution_count": 5,
   "metadata": {},
   "outputs": [],
   "source": [
    "#define the system of dimensionless differential eqns \n",
    "def white_dwarf(r, y, w ,z): \n",
    "    p ,m  = y \n",
    "    if p <= 0: \n",
    "        return np.array([0,0])\n",
    "    dpdr = -m/(r**2)*(p/w)**z\n",
    "    dmdr = (r**2)*(p/w)**z\n",
    "    return np.array([dpdr, dmdr])\n"
   ]
  },
  {
   "cell_type": "code",
   "execution_count": 6,
   "metadata": {},
   "outputs": [],
   "source": [
    "def rk4(f, y0, r0, rf, dr, w, z):\n",
    "    r_values = np.arange(r0, rf, dr)\n",
    "    y_values = np.zeros((len(r_values), len(y0)))\n",
    "    y_values[0] = y0\n",
    "    \n",
    "    for i in range(1, len(r_values)):\n",
    "        r = r_values[i - 1]\n",
    "        y = y_values[i - 1]\n",
    "        k1 = dr * f(r, y, w, z)\n",
    "        k2 = dr * f(r + dr/2, y + k1/2, w, z)\n",
    "        k3 = dr * f(r + dr/2, y + k2/2, w, z)\n",
    "        k4 = dr * f(r + dr, y + k3, w, z)\n",
    "        \n",
    "        y_values[i] = y + (k1 + 2*k2 + 2*k3 + k4) / 6\n",
    "    \n",
    "    return r_values, y_values\n"
   ]
  },
  {
   "cell_type": "code",
   "execution_count": 7,
   "metadata": {},
   "outputs": [],
   "source": [
    "#central pressure VARYING\n",
    "p_c_values = np.linspace(1e20, 5e21, 100)\n",
    "\n",
    "# Lists to store results\n",
    "M_stars = []\n",
    "r_stars = []\n",
    "\n",
    "\n",
    "# Solve using RK4 \n",
    "for p_c in p_c_values:\n",
    "    \n",
    "    #matter density in the centre of the white dwarf\n",
    "    ro_c=(p_c/Knr)**(3/5)*c**(-2) #kg/m^3\n",
    "    \n",
    "    \n",
    "    #dimensionless param for dimensionless eos\n",
    "    w = Knr*c**(4/3)*ro_c**(2/3)\n",
    "\n",
    "    #inverse of gamma\n",
    "    z= 3/5\n",
    "\n",
    "    #initial values for the dimensionless system of differential eqns \n",
    "    p0=p_c/ro_c*c**(-2) #initial dimensionless pressure\n",
    "    m0 = 0.0    # Initial dimensionless mass\n",
    "    y0 = np.array([p0, m0])  \n",
    "    r0, rf, dr = 1e-5, 0.5, 0.00001  \n",
    "\n",
    "    r_values, y_values = rk4(white_dwarf, y0, r0, rf, dr, w, z)\n",
    "    \n",
    "    #Back to dimensionful quantities\n",
    "\n",
    "    m_values= y_values[:,1] *4*np.pi*ro_c/(ro_c*4*np.pi*G)**(3/2)*c**3/m_sun\n",
    "    r_values1=r_values/(ro_c*4*np.pi*G)**(1/2)*c*10**(-3)\n",
    "    p_values= y_values[:,0]*ro_c*c**2\n",
    "    \n",
    "   \n",
    "    for i in range(len(p_values)):\n",
    "        if p_values[i]<=0:\n",
    "            r_stop = r_values1[i]  \n",
    "            M_star = m_values[i]  \n",
    "            break  \n",
    "    \n",
    "    M_stars.append(M_star)\n",
    "    r_stars.append(r_stop)\n",
    "    \n",
    "\n",
    "M_stars = np.array(M_stars)\n",
    "r_stars = np.array(r_stars)\n"
   ]
  },
  {
   "cell_type": "code",
   "execution_count": 9,
   "metadata": {},
   "outputs": [
    {
     "data": {
      "image/png": "[encoded data removed]",
      "text/plain": [
       "<Figure size 576x432 with 2 Axes>"
      ]
     },
     "metadata": {
      "needs_background": "light"
     },
     "output_type": "display_data"
    }
   ],
   "source": [
    "fig, ax1 = plt.subplots(figsize=(8, 6))\n",
    "\n",
    "# Plot the first graph (Radius)\n",
    "ax1.plot(p_c_values, r_stars , 'b-', label=\"Radius[km]\")\n",
    "ax1.set_xlabel(\"Pressure in the center [Pa]\")\n",
    "ax1.set_ylabel(\"Radius [km]\", color='b')\n",
    "ax1.tick_params(axis='y', labelcolor='b')\n",
    "#ax1.set_xscale('log')\n",
    "\n",
    "# Create second y-axis (Mass)\n",
    "ax2 = ax1.twinx()  \n",
    "ax2.plot(p_c_values, M_stars, 'r-', label=\"Mass(m_sun)\")\n",
    "ax2.set_ylabel(\"Mass [m_sun]\", color='r')\n",
    "ax2.tick_params(axis='y', labelcolor='r')\n",
    "\n",
    "# Title and Grid\n",
    "plt.title(\"White Dwarfs\")\n",
    "fig.tight_layout()\n",
    "plt.grid(True, which='both', axis='both') \n",
    "plt.show()\n"
   ]
  },
  {
   "cell_type": "code",
   "execution_count": null,
   "metadata": {},
   "outputs": [],
   "source": []
  }
 ],
 "metadata": {
  "kernelspec": {
   "display_name": "Python 3",
   "language": "python",
   "name": "python3"
  },
  "language_info": {
   "codemirror_mode": {
    "name": "ipython",
    "version": 3
   },
   "file_extension": ".py",
   "mimetype": "text/x-python",
   "name": "python",
   "nbconvert_exporter": "python",
   "pygments_lexer": "ipython3",
   "version": "3.8.3"
  }
 },
 "nbformat": 4,
 "nbformat_minor": 4
}
