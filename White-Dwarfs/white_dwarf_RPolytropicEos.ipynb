{
 "cells": [
  {
   "cell_type": "code",
   "execution_count": 1,
   "metadata": {},
   "outputs": [],
   "source": [
    "import numpy as np\n",
    "import matplotlib.pyplot as plt\n",
    "\n",
    "#General Parameters in SI\n",
    "\n",
    "G=6.6743e-11 #m^3 kg^-1 s^-2\n",
    "c=3e8 #m/s\n",
    "h_t=1.054571817e-34 #kg*m^2*s^-2\n",
    "m_e=9.1093837015e-31 #kg\n",
    "m_n=1.674927351e-27 #kg\n",
    "m_sun=1.98855e30 #kg\n"
   ]
  },
  {
   "cell_type": "code",
   "execution_count": 2,
   "metadata": {},
   "outputs": [],
   "source": [
    "#Define the system of dimensionless differential eqns \n",
    "def white_dwarf(r, y, w ,z): \n",
    "    p ,m  = y \n",
    "    if p <= 0: \n",
    "        return np.array([0, 0])\n",
    "    dpdr = -m/(r**2)*(p/w)**z\n",
    "    dmdr = (r**2)*(p/w)**z\n",
    "    return np.array([dpdr, dmdr])\n"
   ]
  },
  {
   "cell_type": "code",
   "execution_count": 3,
   "metadata": {},
   "outputs": [],
   "source": [
    "#Define RK4 method\n",
    "def rk4(f, y0, r0, rf, dr, w, z):\n",
    "    r_values = np.arange(r0, rf, dr)\n",
    "    y_values = np.zeros((len(r_values), len(y0)))\n",
    "    y_values[0] = y0\n",
    "    \n",
    "    for i in range(1, len(r_values)):\n",
    "        r = r_values[i - 1]\n",
    "        y = y_values[i - 1]\n",
    "        k1 = dr * f(r, y, w, z)\n",
    "        k2 = dr * f(r + dr/2, y + k1/2, w, z)\n",
    "        k3 = dr * f(r + dr/2, y + k2/2, w, z)\n",
    "        k4 = dr * f(r + dr, y + k3, w, z)\n",
    "        \n",
    "        y_values[i] = y + (k1 + 2*k2 + 2*k3 + k4) / 6\n",
    "    \n",
    "    return r_values, y_values\n"
   ]
  },
  {
   "cell_type": "code",
   "execution_count": 4,
   "metadata": {},
   "outputs": [],
   "source": [
    "#Parameters for EoS\n",
    "\n",
    "#relativistic constant in the eos p=Kr*e**(4/3)\n",
    "Kr = h_t*c/(12*np.pi**2)*(3*np.pi**2*((2*m_n*c**2)**(-1)))**(4/3)\n",
    "\n",
    "#pressure in the centre of the white dwarf\n",
    "p_c=5.62e24 \n",
    "\n",
    "#matter density in the centre of the white dwarf\n",
    "ro_c=(p_c/Kr)**(3/4)*c**(-2) \n",
    "\n",
    "#dimensionless param for dimensionless EoS\n",
    "w = Kr*c**(2/3)*ro_c**(1/3)\n",
    "\n",
    "#inverse of gamma\n",
    "z= 3/4\n",
    "\n",
    "#initial values for the dimensionless system of differential eqns \n",
    "p0=p_c/ro_c*c**(-2) \n",
    "m0 = 0.0      \n",
    "y0 = np.array([p0, m0])\n",
    "r0, rf, dr = 1e-6, 0.25, 0.0001  "
   ]
  },
  {
   "cell_type": "code",
   "execution_count": 5,
   "metadata": {},
   "outputs": [],
   "source": [
    "# Solve using RK4\n",
    "r_values, y_values = rk4(white_dwarf, y0, r0, rf, dr, w, z)\n"
   ]
  },
  {
   "cell_type": "code",
   "execution_count": 6,
   "metadata": {},
   "outputs": [],
   "source": [
    "#Back to dimensionful quantities\n",
    "\n",
    "m_values= y_values[:, 1]*4*np.pi*ro_c/(ro_c*4*np.pi*G)**(3/2)*c**3/m_sun\n",
    "p_values= y_values[:, 0]*ro_c*c**2\n",
    "r_values1=r_values/(ro_c*4*np.pi*G)**(1/2)*c*10**(-3)\n",
    "\n"
   ]
  },
  {
   "cell_type": "code",
   "execution_count": 7,
   "metadata": {},
   "outputs": [
    {
     "data": {
      "image/png": "[encoded data removed]",
      "text/plain": [
       "<Figure size 576x432 with 2 Axes>"
      ]
     },
     "metadata": {
      "needs_background": "light"
     },
     "output_type": "display_data"
    }
   ],
   "source": [
    "fig, ax1 = plt.subplots(figsize=(8, 6))\n",
    "\n",
    "ax1.plot(r_values1,p_values , 'b-', label=\"Pressure [Pa]\")\n",
    "ax1.set_xlabel(\"Radius [km]\")\n",
    "ax1.set_ylabel(\"Pressure [Pa]\", color='b')\n",
    "ax1.tick_params(axis='y', labelcolor='b')\n",
    "ax2 = ax1.twinx()  \n",
    "ax2.plot(r_values1, m_values, 'r-', label=\"Mass [$M_{\\odot}$]\")\n",
    "ax2.set_ylabel(\"Mass [$M_{\\odot}$]\", color='r')\n",
    "ax2.tick_params(axis='y', labelcolor='r')\n",
    "plt.title(\"White Dwarf's Structure\")\n",
    "fig.tight_layout()\n",
    "plt.grid()\n",
    "plt.show()"
   ]
  },
  {
   "cell_type": "code",
   "execution_count": 8,
   "metadata": {},
   "outputs": [
    {
     "name": "stdout",
     "output_type": "stream",
     "text": [
      "5711.1504325725255\n",
      "1.4327703586476153\n"
     ]
    }
   ],
   "source": [
    "#Find mass and radius of the White Dwarf (Km and M_sun)\n",
    "for i in range(len(p_values)):\n",
    "    if p_values[i] <= 0:\n",
    "        r_stop = r_values1[i]  # White Dwarf's radius\n",
    "        M_star = m_values[i]  # White Dwarf's mass\n",
    "        break  \n",
    "\n",
    "print(r_stop)\n",
    "print(M_star)"
   ]
  }
 ],
 "metadata": {
  "kernelspec": {
   "display_name": "Python 3",
   "language": "python",
   "name": "python3"
  },
  "language_info": {
   "codemirror_mode": {
    "name": "ipython",
    "version": 3
   },
   "file_extension": ".py",
   "mimetype": "text/x-python",
   "name": "python",
   "nbconvert_exporter": "python",
   "pygments_lexer": "ipython3",
   "version": "3.8.3"
  }
 },
 "nbformat": 4,
 "nbformat_minor": 4
}
