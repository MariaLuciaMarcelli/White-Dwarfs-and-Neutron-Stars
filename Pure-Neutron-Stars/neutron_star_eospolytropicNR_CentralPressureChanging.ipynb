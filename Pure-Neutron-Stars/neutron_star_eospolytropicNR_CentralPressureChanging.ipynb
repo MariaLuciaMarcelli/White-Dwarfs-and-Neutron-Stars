{
 "cells": [
  {
   "cell_type": "code",
   "execution_count": 1,
   "metadata": {},
   "outputs": [],
   "source": [
    "import numpy as np\n",
    "import matplotlib.pyplot as plt\n",
    "\n",
    "# Parameters in SI\n",
    "\n",
    "G=6.6743e-11 #m^3 kg^-1 s^-2\n",
    "c=3e8 #m/s\n",
    "h_t=1.054571817e-34 #kg*m^2*s^-2\n",
    "m_e=9.1093837015e-31 #kg\n",
    "m_n=1.674927351e-27 #kg\n",
    "m_sun=1.98855e30 #kg\n"
   ]
  },
  {
   "cell_type": "code",
   "execution_count": 2,
   "metadata": {},
   "outputs": [],
   "source": [
    "#define the dimensionless system of differential eqns \n",
    "\n",
    "def neutron_star(r, y, w ,z): \n",
    "    p ,m  = y  \n",
    "    if p <= 0: \n",
    "        return np.array([0,0])\n",
    "    dpdr = -m/(r**2)*(p/w)**z\n",
    "    dmdr = (r**2)*(p/w)**z\n",
    "    return np.array([dpdr, dmdr])\n"
   ]
  },
  {
   "cell_type": "code",
   "execution_count": 3,
   "metadata": {},
   "outputs": [],
   "source": [
    "#RK4 method\n",
    "\n",
    "def rk4(f, y0, r0, rf, dr, w, z):\n",
    "    r_values = np.arange(r0, rf, dr)\n",
    "    y_values = np.zeros((len(r_values), len(y0)))\n",
    "    y_values[0] = y0\n",
    "    \n",
    "    for i in range(1, len(r_values)):\n",
    "        r = r_values[i - 1]\n",
    "        y = y_values[i - 1]\n",
    "        \n",
    "        k1 = dr * f(r, y, w, z)\n",
    "        k2 = dr * f(r + dr/2, y + k1/2, w, z)\n",
    "        k3 = dr * f(r + dr/2, y + k2/2, w, z)\n",
    "        k4 = dr * f(r + dr, y + k3, w, z)\n",
    "        \n",
    "        y_values[i] = y + (k1 + 2*k2 + 2*k3 + k4) / 6\n",
    "    \n",
    "    return r_values, y_values\n"
   ]
  },
  {
   "cell_type": "code",
   "execution_count": 4,
   "metadata": {},
   "outputs": [],
   "source": [
    "#non relativistic constant in the eos p=Knr*e**(5/3)\n",
    "Knr = h_t**2/(15*np.pi**2*m_n)*(3*np.pi**2/(m_n*c**2))**(5/3)\n",
    "\n",
    "#inverse of gamma\n",
    "z= 3/5"
   ]
  },
  {
   "cell_type": "code",
   "execution_count": 5,
   "metadata": {},
   "outputs": [],
   "source": [
    "#pressure in the centre of the neutron star VARYING\n",
    "p_c_values = np.linspace(2e30, 4e32, 100)\n",
    "\n",
    "# Lists to store results\n",
    "M_stars = []\n",
    "r_stars = []\n",
    "\n",
    "\n",
    "# Solve using RK4 FOR MANY POSSIBLE INTERNAL PRESSURES\n",
    "for p_c in p_c_values:\n",
    "    \n",
    "    #matter density in the centre of the neutron star \n",
    "    ro_c=(p_c/Knr)**(3/5)*c**(-2) \n",
    "    \n",
    "    #dimensionless param for dimensionless eos\n",
    "    w = Knr*c**(4/3)*ro_c**(2/3)\n",
    "\n",
    "    #initial values for the dimensionless system of differential eqns \n",
    "    p0=p_c/ro_c*c**(-2) \n",
    "    m0 = 0.0    \n",
    "    y0 = np.array([p0, m0]) \n",
    "    r0, rf, dr = 1e-6, 5, 0.0001  \n",
    "    \n",
    "    r_values, y_values = rk4(neutron_star, y0, r0, rf, dr, w, z)\n",
    "    \n",
    "    #Back to dimensionful quantities\n",
    "\n",
    "    m_values= y_values[:,1] *4*np.pi*ro_c/(ro_c*4*np.pi*G)**(3/2)*c**3/m_sun\n",
    "    r_values1=r_values/(ro_c*4*np.pi*G)**(1/2)*c*10**(-3)\n",
    "    p_values= y_values[:,0]*ro_c*c**2\n",
    "    \n",
    "    \n",
    "    for i in range(len(p_values)):\n",
    "        if p_values[i]<=0:\n",
    "            r_stop = r_values1[i]  \n",
    "            M_star = m_values[i]  \n",
    "            break  \n",
    "    \n",
    "\n",
    "    M_stars.append(M_star)\n",
    "    r_stars.append(r_stop)\n",
    "    \n",
    "\n",
    "M_stars = np.array(M_stars)\n",
    "r_stars = np.array(r_stars)\n"
   ]
  },
  {
   "cell_type": "code",
   "execution_count": 6,
   "metadata": {},
   "outputs": [
    {
     "data": {
      "image/png": "[encoded data removed]",
      "text/plain": [
       "<Figure size 576x432 with 2 Axes>"
      ]
     },
     "metadata": {
      "needs_background": "light"
     },
     "output_type": "display_data"
    }
   ],
   "source": [
    "fig, ax1 = plt.subplots(figsize=(8, 6))\n",
    "\n",
    "ax1.plot(p_c_values, r_stars , 'b-', label=\"Radius[km]\")\n",
    "ax1.set_xlabel(\"Pressure in the center [Pa]\")\n",
    "ax1.set_ylabel(\"Radius [km]\", color='b')\n",
    "ax1.tick_params(axis='y', labelcolor='b')\n",
    "ax1.set_xscale('log')\n",
    "ax2 = ax1.twinx()  \n",
    "ax2.plot(p_c_values, M_stars, 'r-', label=\"Mass [$M_{\\odot}$]\")\n",
    "ax2.set_ylabel(\"Mass [$M_{\\odot}$]\", color='r')\n",
    "ax2.tick_params(axis='y', labelcolor='r')\n",
    "plt.title(\"Neutron Stars\")\n",
    "fig.tight_layout()\n",
    "plt.grid()\n",
    "plt.show()\n",
    "\n"
   ]
  }
 ],
 "metadata": {
  "kernelspec": {
   "display_name": "Python 3",
   "language": "python",
   "name": "python3"
  },
  "language_info": {
   "codemirror_mode": {
    "name": "ipython",
    "version": 3
   },
   "file_extension": ".py",
   "mimetype": "text/x-python",
   "name": "python",
   "nbconvert_exporter": "python",
   "pygments_lexer": "ipython3",
   "version": "3.8.3"
  }
 },
 "nbformat": 4,
 "nbformat_minor": 4
}
